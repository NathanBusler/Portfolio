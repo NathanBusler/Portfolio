{
  "nbformat": 4,
  "nbformat_minor": 0,
  "metadata": {
    "colab": {
      "name": "Fourier Series.ipynb",
      "provenance": [],
      "collapsed_sections": [],
      "authorship_tag": "ABX9TyPWenAoPum9BZ0CEx60XhtG",
      "include_colab_link": true
    },
    "kernelspec": {
      "name": "python3",
      "display_name": "Python 3"
    },
    "widgets": {
      "application/vnd.jupyter.widget-state+json": {
        "57a95993a8164ac8aebd5d41a4da130d": {
          "model_module": "@jupyter-widgets/controls",
          "model_name": "VBoxModel",
          "state": {
            "_view_name": "VBoxView",
            "_dom_classes": [
              "widget-interact"
            ],
            "_model_name": "VBoxModel",
            "_view_module": "@jupyter-widgets/controls",
            "_model_module_version": "1.5.0",
            "_view_count": null,
            "_view_module_version": "1.5.0",
            "box_style": "",
            "layout": "IPY_MODEL_a31b3e44c5dc4e9c9c88b91e9a2afa5f",
            "_model_module": "@jupyter-widgets/controls",
            "children": [
              "IPY_MODEL_026b91f6c06e49e3aab1baaacd161bcf",
              "IPY_MODEL_28a6e8d1a0f94e09b9c651bc8aac4bab"
            ]
          }
        },
        "a31b3e44c5dc4e9c9c88b91e9a2afa5f": {
          "model_module": "@jupyter-widgets/base",
          "model_name": "LayoutModel",
          "state": {
            "_view_name": "LayoutView",
            "grid_template_rows": null,
            "right": null,
            "justify_content": null,
            "_view_module": "@jupyter-widgets/base",
            "overflow": null,
            "_model_module_version": "1.2.0",
            "_view_count": null,
            "flex_flow": null,
            "width": null,
            "min_width": null,
            "border": null,
            "align_items": null,
            "bottom": null,
            "_model_module": "@jupyter-widgets/base",
            "top": null,
            "grid_column": null,
            "overflow_y": null,
            "overflow_x": null,
            "grid_auto_flow": null,
            "grid_area": null,
            "grid_template_columns": null,
            "flex": null,
            "_model_name": "LayoutModel",
            "justify_items": null,
            "grid_row": null,
            "max_height": null,
            "align_content": null,
            "visibility": null,
            "align_self": null,
            "height": null,
            "min_height": null,
            "padding": null,
            "grid_auto_rows": null,
            "grid_gap": null,
            "max_width": null,
            "order": null,
            "_view_module_version": "1.2.0",
            "grid_template_areas": null,
            "object_position": null,
            "object_fit": null,
            "grid_auto_columns": null,
            "margin": null,
            "display": null,
            "left": null
          }
        },
        "026b91f6c06e49e3aab1baaacd161bcf": {
          "model_module": "@jupyter-widgets/controls",
          "model_name": "IntSliderModel",
          "state": {
            "_view_name": "IntSliderView",
            "style": "IPY_MODEL_906ec399826f4c53871123caa9655540",
            "_dom_classes": [],
            "description": "n",
            "step": 1,
            "_model_name": "IntSliderModel",
            "orientation": "horizontal",
            "max": 30,
            "_view_module": "@jupyter-widgets/controls",
            "_model_module_version": "1.5.0",
            "value": 1,
            "_view_count": null,
            "disabled": false,
            "_view_module_version": "1.5.0",
            "min": 1,
            "continuous_update": true,
            "readout_format": "d",
            "description_tooltip": null,
            "readout": true,
            "_model_module": "@jupyter-widgets/controls",
            "layout": "IPY_MODEL_c9bed2fbc2a547d791e3933f026f7992"
          }
        },
        "28a6e8d1a0f94e09b9c651bc8aac4bab": {
          "model_module": "@jupyter-widgets/output",
          "model_name": "OutputModel",
          "state": {
            "_view_name": "OutputView",
            "msg_id": "",
            "_dom_classes": [],
            "_model_name": "OutputModel",
            "outputs": [
              {
                "output_type": "display_data",
                "metadata": {
                  "tags": [],
                  "needs_background": "light"
                },
                "image/png": "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\n",
                "text/plain": "<Figure size 720x360 with 1 Axes>"
              }
            ],
            "_view_module": "@jupyter-widgets/output",
            "_model_module_version": "1.0.0",
            "_view_count": null,
            "_view_module_version": "1.0.0",
            "layout": "IPY_MODEL_b2536d90f3204dbdb9c23e91d61c62ed",
            "_model_module": "@jupyter-widgets/output"
          }
        },
        "906ec399826f4c53871123caa9655540": {
          "model_module": "@jupyter-widgets/controls",
          "model_name": "SliderStyleModel",
          "state": {
            "_view_name": "StyleView",
            "handle_color": null,
            "_model_name": "SliderStyleModel",
            "description_width": "",
            "_view_module": "@jupyter-widgets/base",
            "_model_module_version": "1.5.0",
            "_view_count": null,
            "_view_module_version": "1.2.0",
            "_model_module": "@jupyter-widgets/controls"
          }
        },
        "c9bed2fbc2a547d791e3933f026f7992": {
          "model_module": "@jupyter-widgets/base",
          "model_name": "LayoutModel",
          "state": {
            "_view_name": "LayoutView",
            "grid_template_rows": null,
            "right": null,
            "justify_content": null,
            "_view_module": "@jupyter-widgets/base",
            "overflow": null,
            "_model_module_version": "1.2.0",
            "_view_count": null,
            "flex_flow": null,
            "width": null,
            "min_width": null,
            "border": null,
            "align_items": null,
            "bottom": null,
            "_model_module": "@jupyter-widgets/base",
            "top": null,
            "grid_column": null,
            "overflow_y": null,
            "overflow_x": null,
            "grid_auto_flow": null,
            "grid_area": null,
            "grid_template_columns": null,
            "flex": null,
            "_model_name": "LayoutModel",
            "justify_items": null,
            "grid_row": null,
            "max_height": null,
            "align_content": null,
            "visibility": null,
            "align_self": null,
            "height": null,
            "min_height": null,
            "padding": null,
            "grid_auto_rows": null,
            "grid_gap": null,
            "max_width": null,
            "order": null,
            "_view_module_version": "1.2.0",
            "grid_template_areas": null,
            "object_position": null,
            "object_fit": null,
            "grid_auto_columns": null,
            "margin": null,
            "display": null,
            "left": null
          }
        },
        "b2536d90f3204dbdb9c23e91d61c62ed": {
          "model_module": "@jupyter-widgets/base",
          "model_name": "LayoutModel",
          "state": {
            "_view_name": "LayoutView",
            "grid_template_rows": null,
            "right": null,
            "justify_content": null,
            "_view_module": "@jupyter-widgets/base",
            "overflow": null,
            "_model_module_version": "1.2.0",
            "_view_count": null,
            "flex_flow": null,
            "width": null,
            "min_width": null,
            "border": null,
            "align_items": null,
            "bottom": null,
            "_model_module": "@jupyter-widgets/base",
            "top": null,
            "grid_column": null,
            "overflow_y": null,
            "overflow_x": null,
            "grid_auto_flow": null,
            "grid_area": null,
            "grid_template_columns": null,
            "flex": null,
            "_model_name": "LayoutModel",
            "justify_items": null,
            "grid_row": null,
            "max_height": null,
            "align_content": null,
            "visibility": null,
            "align_self": null,
            "height": null,
            "min_height": null,
            "padding": null,
            "grid_auto_rows": null,
            "grid_gap": null,
            "max_width": null,
            "order": null,
            "_view_module_version": "1.2.0",
            "grid_template_areas": null,
            "object_position": null,
            "object_fit": null,
            "grid_auto_columns": null,
            "margin": null,
            "display": null,
            "left": null
          }
        },
        "180da1c564474739940656439d0af7bb": {
          "model_module": "@jupyter-widgets/controls",
          "model_name": "VBoxModel",
          "state": {
            "_view_name": "VBoxView",
            "_dom_classes": [
              "widget-interact"
            ],
            "_model_name": "VBoxModel",
            "_view_module": "@jupyter-widgets/controls",
            "_model_module_version": "1.5.0",
            "_view_count": null,
            "_view_module_version": "1.5.0",
            "box_style": "",
            "layout": "IPY_MODEL_21ede7f17188436fa947161e6caa9a36",
            "_model_module": "@jupyter-widgets/controls",
            "children": [
              "IPY_MODEL_97c949648ec7400a9777d07c9ce0ea0e",
              "IPY_MODEL_f7a855c181f24b7cb5467ded62009267"
            ]
          }
        },
        "21ede7f17188436fa947161e6caa9a36": {
          "model_module": "@jupyter-widgets/base",
          "model_name": "LayoutModel",
          "state": {
            "_view_name": "LayoutView",
            "grid_template_rows": null,
            "right": null,
            "justify_content": null,
            "_view_module": "@jupyter-widgets/base",
            "overflow": null,
            "_model_module_version": "1.2.0",
            "_view_count": null,
            "flex_flow": null,
            "width": null,
            "min_width": null,
            "border": null,
            "align_items": null,
            "bottom": null,
            "_model_module": "@jupyter-widgets/base",
            "top": null,
            "grid_column": null,
            "overflow_y": null,
            "overflow_x": null,
            "grid_auto_flow": null,
            "grid_area": null,
            "grid_template_columns": null,
            "flex": null,
            "_model_name": "LayoutModel",
            "justify_items": null,
            "grid_row": null,
            "max_height": null,
            "align_content": null,
            "visibility": null,
            "align_self": null,
            "height": null,
            "min_height": null,
            "padding": null,
            "grid_auto_rows": null,
            "grid_gap": null,
            "max_width": null,
            "order": null,
            "_view_module_version": "1.2.0",
            "grid_template_areas": null,
            "object_position": null,
            "object_fit": null,
            "grid_auto_columns": null,
            "margin": null,
            "display": null,
            "left": null
          }
        },
        "97c949648ec7400a9777d07c9ce0ea0e": {
          "model_module": "@jupyter-widgets/controls",
          "model_name": "IntSliderModel",
          "state": {
            "_view_name": "IntSliderView",
            "style": "IPY_MODEL_e4ec87d4e6c6461daf14bf2ac0c068d8",
            "_dom_classes": [],
            "description": "n",
            "step": 1,
            "_model_name": "IntSliderModel",
            "orientation": "horizontal",
            "max": 200,
            "_view_module": "@jupyter-widgets/controls",
            "_model_module_version": "1.5.0",
            "value": 1,
            "_view_count": null,
            "disabled": false,
            "_view_module_version": "1.5.0",
            "min": 1,
            "continuous_update": true,
            "readout_format": "d",
            "description_tooltip": null,
            "readout": true,
            "_model_module": "@jupyter-widgets/controls",
            "layout": "IPY_MODEL_a2d445e85a1c40c1ae8b198c37eafd5a"
          }
        },
        "f7a855c181f24b7cb5467ded62009267": {
          "model_module": "@jupyter-widgets/output",
          "model_name": "OutputModel",
          "state": {
            "_view_name": "OutputView",
            "msg_id": "",
            "_dom_classes": [],
            "_model_name": "OutputModel",
            "outputs": [
              {
                "output_type": "display_data",
                "metadata": {
                  "tags": [],
                  "needs_background": "light"
                },
                "image/png": "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\n",
                "text/plain": "<Figure size 720x360 with 1 Axes>"
              }
            ],
            "_view_module": "@jupyter-widgets/output",
            "_model_module_version": "1.0.0",
            "_view_count": null,
            "_view_module_version": "1.0.0",
            "layout": "IPY_MODEL_0b58b586a2194025bb489cc2f25b1fe4",
            "_model_module": "@jupyter-widgets/output"
          }
        },
        "e4ec87d4e6c6461daf14bf2ac0c068d8": {
          "model_module": "@jupyter-widgets/controls",
          "model_name": "SliderStyleModel",
          "state": {
            "_view_name": "StyleView",
            "handle_color": null,
            "_model_name": "SliderStyleModel",
            "description_width": "",
            "_view_module": "@jupyter-widgets/base",
            "_model_module_version": "1.5.0",
            "_view_count": null,
            "_view_module_version": "1.2.0",
            "_model_module": "@jupyter-widgets/controls"
          }
        },
        "a2d445e85a1c40c1ae8b198c37eafd5a": {
          "model_module": "@jupyter-widgets/base",
          "model_name": "LayoutModel",
          "state": {
            "_view_name": "LayoutView",
            "grid_template_rows": null,
            "right": null,
            "justify_content": null,
            "_view_module": "@jupyter-widgets/base",
            "overflow": null,
            "_model_module_version": "1.2.0",
            "_view_count": null,
            "flex_flow": null,
            "width": null,
            "min_width": null,
            "border": null,
            "align_items": null,
            "bottom": null,
            "_model_module": "@jupyter-widgets/base",
            "top": null,
            "grid_column": null,
            "overflow_y": null,
            "overflow_x": null,
            "grid_auto_flow": null,
            "grid_area": null,
            "grid_template_columns": null,
            "flex": null,
            "_model_name": "LayoutModel",
            "justify_items": null,
            "grid_row": null,
            "max_height": null,
            "align_content": null,
            "visibility": null,
            "align_self": null,
            "height": null,
            "min_height": null,
            "padding": null,
            "grid_auto_rows": null,
            "grid_gap": null,
            "max_width": null,
            "order": null,
            "_view_module_version": "1.2.0",
            "grid_template_areas": null,
            "object_position": null,
            "object_fit": null,
            "grid_auto_columns": null,
            "margin": null,
            "display": null,
            "left": null
          }
        },
        "0b58b586a2194025bb489cc2f25b1fe4": {
          "model_module": "@jupyter-widgets/base",
          "model_name": "LayoutModel",
          "state": {
            "_view_name": "LayoutView",
            "grid_template_rows": null,
            "right": null,
            "justify_content": null,
            "_view_module": "@jupyter-widgets/base",
            "overflow": null,
            "_model_module_version": "1.2.0",
            "_view_count": null,
            "flex_flow": null,
            "width": null,
            "min_width": null,
            "border": null,
            "align_items": null,
            "bottom": null,
            "_model_module": "@jupyter-widgets/base",
            "top": null,
            "grid_column": null,
            "overflow_y": null,
            "overflow_x": null,
            "grid_auto_flow": null,
            "grid_area": null,
            "grid_template_columns": null,
            "flex": null,
            "_model_name": "LayoutModel",
            "justify_items": null,
            "grid_row": null,
            "max_height": null,
            "align_content": null,
            "visibility": null,
            "align_self": null,
            "height": null,
            "min_height": null,
            "padding": null,
            "grid_auto_rows": null,
            "grid_gap": null,
            "max_width": null,
            "order": null,
            "_view_module_version": "1.2.0",
            "grid_template_areas": null,
            "object_position": null,
            "object_fit": null,
            "grid_auto_columns": null,
            "margin": null,
            "display": null,
            "left": null
          }
        },
        "be57ee8be04d48538d91dbf60fc84d67": {
          "model_module": "@jupyter-widgets/controls",
          "model_name": "VBoxModel",
          "state": {
            "_view_name": "VBoxView",
            "_dom_classes": [
              "widget-interact"
            ],
            "_model_name": "VBoxModel",
            "_view_module": "@jupyter-widgets/controls",
            "_model_module_version": "1.5.0",
            "_view_count": null,
            "_view_module_version": "1.5.0",
            "box_style": "",
            "layout": "IPY_MODEL_e74ea062f2314f3aa4b3bbb4666196e4",
            "_model_module": "@jupyter-widgets/controls",
            "children": [
              "IPY_MODEL_2f5057cd54904557af80c1233248cf3c",
              "IPY_MODEL_bafb97ca06b7440d9b4e95fdf485f2f3",
              "IPY_MODEL_66218d8b80f048ad82dab091dfdbe9f7"
            ]
          }
        },
        "e74ea062f2314f3aa4b3bbb4666196e4": {
          "model_module": "@jupyter-widgets/base",
          "model_name": "LayoutModel",
          "state": {
            "_view_name": "LayoutView",
            "grid_template_rows": null,
            "right": null,
            "justify_content": null,
            "_view_module": "@jupyter-widgets/base",
            "overflow": null,
            "_model_module_version": "1.2.0",
            "_view_count": null,
            "flex_flow": null,
            "width": null,
            "min_width": null,
            "border": null,
            "align_items": null,
            "bottom": null,
            "_model_module": "@jupyter-widgets/base",
            "top": null,
            "grid_column": null,
            "overflow_y": null,
            "overflow_x": null,
            "grid_auto_flow": null,
            "grid_area": null,
            "grid_template_columns": null,
            "flex": null,
            "_model_name": "LayoutModel",
            "justify_items": null,
            "grid_row": null,
            "max_height": null,
            "align_content": null,
            "visibility": null,
            "align_self": null,
            "height": null,
            "min_height": null,
            "padding": null,
            "grid_auto_rows": null,
            "grid_gap": null,
            "max_width": null,
            "order": null,
            "_view_module_version": "1.2.0",
            "grid_template_areas": null,
            "object_position": null,
            "object_fit": null,
            "grid_auto_columns": null,
            "margin": null,
            "display": null,
            "left": null
          }
        },
        "2f5057cd54904557af80c1233248cf3c": {
          "model_module": "@jupyter-widgets/controls",
          "model_name": "IntSliderModel",
          "state": {
            "_view_name": "IntSliderView",
            "style": "IPY_MODEL_e4032019d098460685ee9106f13f7223",
            "_dom_classes": [],
            "description": "n",
            "step": 1,
            "_model_name": "IntSliderModel",
            "orientation": "horizontal",
            "max": 1000,
            "_view_module": "@jupyter-widgets/controls",
            "_model_module_version": "1.5.0",
            "value": 1000,
            "_view_count": null,
            "disabled": false,
            "_view_module_version": "1.5.0",
            "min": 1,
            "continuous_update": true,
            "readout_format": "d",
            "description_tooltip": null,
            "readout": true,
            "_model_module": "@jupyter-widgets/controls",
            "layout": "IPY_MODEL_e693d45afe754eeb8d84605e8f7c5bd1"
          }
        },
        "bafb97ca06b7440d9b4e95fdf485f2f3": {
          "model_module": "@jupyter-widgets/controls",
          "model_name": "FloatSliderModel",
          "state": {
            "_view_name": "FloatSliderView",
            "style": "IPY_MODEL_faab84054c8d44c3b8b9958549c0b4ef",
            "_dom_classes": [],
            "description": "l",
            "step": 0.1,
            "_model_name": "FloatSliderModel",
            "orientation": "horizontal",
            "max": 7,
            "_view_module": "@jupyter-widgets/controls",
            "_model_module_version": "1.5.0",
            "value": 1.4,
            "_view_count": null,
            "disabled": false,
            "_view_module_version": "1.5.0",
            "min": 0.2,
            "continuous_update": true,
            "readout_format": ".2f",
            "description_tooltip": null,
            "readout": true,
            "_model_module": "@jupyter-widgets/controls",
            "layout": "IPY_MODEL_bf16e182286c4e4abd649143142c8cf8"
          }
        },
        "66218d8b80f048ad82dab091dfdbe9f7": {
          "model_module": "@jupyter-widgets/output",
          "model_name": "OutputModel",
          "state": {
            "_view_name": "OutputView",
            "msg_id": "",
            "_dom_classes": [],
            "_model_name": "OutputModel",
            "outputs": [
              {
                "output_type": "display_data",
                "metadata": {
                  "tags": [],
                  "needs_background": "light"
                },
                "image/png": "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\n",
                "text/plain": "<Figure size 720x360 with 1 Axes>"
              }
            ],
            "_view_module": "@jupyter-widgets/output",
            "_model_module_version": "1.0.0",
            "_view_count": null,
            "_view_module_version": "1.0.0",
            "layout": "IPY_MODEL_0357b45ba0ab49c5a12e6630fd83584c",
            "_model_module": "@jupyter-widgets/output"
          }
        },
        "e4032019d098460685ee9106f13f7223": {
          "model_module": "@jupyter-widgets/controls",
          "model_name": "SliderStyleModel",
          "state": {
            "_view_name": "StyleView",
            "handle_color": null,
            "_model_name": "SliderStyleModel",
            "description_width": "",
            "_view_module": "@jupyter-widgets/base",
            "_model_module_version": "1.5.0",
            "_view_count": null,
            "_view_module_version": "1.2.0",
            "_model_module": "@jupyter-widgets/controls"
          }
        },
        "e693d45afe754eeb8d84605e8f7c5bd1": {
          "model_module": "@jupyter-widgets/base",
          "model_name": "LayoutModel",
          "state": {
            "_view_name": "LayoutView",
            "grid_template_rows": null,
            "right": null,
            "justify_content": null,
            "_view_module": "@jupyter-widgets/base",
            "overflow": null,
            "_model_module_version": "1.2.0",
            "_view_count": null,
            "flex_flow": null,
            "width": null,
            "min_width": null,
            "border": null,
            "align_items": null,
            "bottom": null,
            "_model_module": "@jupyter-widgets/base",
            "top": null,
            "grid_column": null,
            "overflow_y": null,
            "overflow_x": null,
            "grid_auto_flow": null,
            "grid_area": null,
            "grid_template_columns": null,
            "flex": null,
            "_model_name": "LayoutModel",
            "justify_items": null,
            "grid_row": null,
            "max_height": null,
            "align_content": null,
            "visibility": null,
            "align_self": null,
            "height": null,
            "min_height": null,
            "padding": null,
            "grid_auto_rows": null,
            "grid_gap": null,
            "max_width": null,
            "order": null,
            "_view_module_version": "1.2.0",
            "grid_template_areas": null,
            "object_position": null,
            "object_fit": null,
            "grid_auto_columns": null,
            "margin": null,
            "display": null,
            "left": null
          }
        },
        "faab84054c8d44c3b8b9958549c0b4ef": {
          "model_module": "@jupyter-widgets/controls",
          "model_name": "SliderStyleModel",
          "state": {
            "_view_name": "StyleView",
            "handle_color": null,
            "_model_name": "SliderStyleModel",
            "description_width": "",
            "_view_module": "@jupyter-widgets/base",
            "_model_module_version": "1.5.0",
            "_view_count": null,
            "_view_module_version": "1.2.0",
            "_model_module": "@jupyter-widgets/controls"
          }
        },
        "bf16e182286c4e4abd649143142c8cf8": {
          "model_module": "@jupyter-widgets/base",
          "model_name": "LayoutModel",
          "state": {
            "_view_name": "LayoutView",
            "grid_template_rows": null,
            "right": null,
            "justify_content": null,
            "_view_module": "@jupyter-widgets/base",
            "overflow": null,
            "_model_module_version": "1.2.0",
            "_view_count": null,
            "flex_flow": null,
            "width": null,
            "min_width": null,
            "border": null,
            "align_items": null,
            "bottom": null,
            "_model_module": "@jupyter-widgets/base",
            "top": null,
            "grid_column": null,
            "overflow_y": null,
            "overflow_x": null,
            "grid_auto_flow": null,
            "grid_area": null,
            "grid_template_columns": null,
            "flex": null,
            "_model_name": "LayoutModel",
            "justify_items": null,
            "grid_row": null,
            "max_height": null,
            "align_content": null,
            "visibility": null,
            "align_self": null,
            "height": null,
            "min_height": null,
            "padding": null,
            "grid_auto_rows": null,
            "grid_gap": null,
            "max_width": null,
            "order": null,
            "_view_module_version": "1.2.0",
            "grid_template_areas": null,
            "object_position": null,
            "object_fit": null,
            "grid_auto_columns": null,
            "margin": null,
            "display": null,
            "left": null
          }
        },
        "0357b45ba0ab49c5a12e6630fd83584c": {
          "model_module": "@jupyter-widgets/base",
          "model_name": "LayoutModel",
          "state": {
            "_view_name": "LayoutView",
            "grid_template_rows": null,
            "right": null,
            "justify_content": null,
            "_view_module": "@jupyter-widgets/base",
            "overflow": null,
            "_model_module_version": "1.2.0",
            "_view_count": null,
            "flex_flow": null,
            "width": null,
            "min_width": null,
            "border": null,
            "align_items": null,
            "bottom": null,
            "_model_module": "@jupyter-widgets/base",
            "top": null,
            "grid_column": null,
            "overflow_y": null,
            "overflow_x": null,
            "grid_auto_flow": null,
            "grid_area": null,
            "grid_template_columns": null,
            "flex": null,
            "_model_name": "LayoutModel",
            "justify_items": null,
            "grid_row": null,
            "max_height": null,
            "align_content": null,
            "visibility": null,
            "align_self": null,
            "height": null,
            "min_height": null,
            "padding": null,
            "grid_auto_rows": null,
            "grid_gap": null,
            "max_width": null,
            "order": null,
            "_view_module_version": "1.2.0",
            "grid_template_areas": null,
            "object_position": null,
            "object_fit": null,
            "grid_auto_columns": null,
            "margin": null,
            "display": null,
            "left": null
          }
        }
      }
    }
  },
  "cells": [
    {
      "cell_type": "markdown",
      "metadata": {
        "id": "view-in-github",
        "colab_type": "text"
      },
      "source": [
        "<a href=\"https://colab.research.google.com/github/NathanBusler/Portfolio/blob/main/Fourier_Series.ipynb\" target=\"_parent\"><img src=\"https://colab.research.google.com/assets/colab-badge.svg\" alt=\"Open In Colab\"/></a>"
      ]
    },
    {
      "cell_type": "markdown",
      "metadata": {
        "id": "vjIzif5kF3LJ"
      },
      "source": [
        "#**Fourier Series**\r\n",
        "We are going to approximate a Triangle Wave by Sine Waves using the Fourier Series.\r\n",
        "\r\n",
        "These are the imports."
      ]
    },
    {
      "cell_type": "code",
      "metadata": {
        "id": "ln8vtiqDFs0B"
      },
      "source": [
        "import numpy as np\r\n",
        "import matplotlib.pyplot as plt\r\n",
        "%matplotlib inline\r\n",
        "\r\n",
        "from ipywidgets import interact, interactive, fixed, interact_manual\r\n",
        "import ipywidgets as wdg"
      ],
      "execution_count": 1,
      "outputs": []
    },
    {
      "cell_type": "markdown",
      "metadata": {
        "id": "_FKqX-ieGV8X"
      },
      "source": [
        "At first let's plot a sine wave and a triangle wave.\r\n",
        "\r\n",
        "The triangle wave function is given as the infinite series.\r\n",
        "\r\n",
        "$ TriangleWave(x) \\,\\, = \\,\\, \\sum \\limits_{n=1}^{\\infty} \\frac{(-1)^{n-1}}{(2n-1)^2} \\cdot \\sin((2n-1) \\cdot x) \\,\\,\\,=\\,\\,\\, \\sin(x) - \\frac{1}{9} \\sin(3x) + \\frac{1}{25} \\sin(5x) - \\frac{1}{49} \\sin(7x) + \\dots $\r\n",
        "\r\n",
        "We need to define the Partial Sums of this Series as a Function of $x$ and $n$ as follows."
      ]
    },
    {
      "cell_type": "code",
      "metadata": {
        "id": "J_1djQcnmnDE"
      },
      "source": [
        "x_tw = np.arange(-7, 7, 0.001)\r\n",
        "\r\n",
        "def triangle_wave(x, n):\r\n",
        "  tw_approx = 0\r\n",
        "  for i in range(1, n+1):\r\n",
        "    sign = (-1)**(i-1)\r\n",
        "    coeff = 1/(2*i-1)**2\r\n",
        "    fct = np.sin((2*i-1)*x)\r\n",
        "\r\n",
        "    tw_approx += (sign)*coeff*fct\r\n",
        "\r\n",
        "  return tw_approx"
      ],
      "execution_count": 2,
      "outputs": []
    },
    {
      "cell_type": "markdown",
      "metadata": {
        "id": "s49Qk5nsmqRi"
      },
      "source": [
        "We can plot both Functions so that you can interactively change the Value of $n$ and thus improve the Approximation of the Triangle Wave."
      ]
    },
    {
      "cell_type": "code",
      "metadata": {
        "colab": {
          "base_uri": "https://localhost:8080/",
          "height": 399,
          "referenced_widgets": [
            "57a95993a8164ac8aebd5d41a4da130d",
            "a31b3e44c5dc4e9c9c88b91e9a2afa5f",
            "026b91f6c06e49e3aab1baaacd161bcf",
            "28a6e8d1a0f94e09b9c651bc8aac4bab",
            "906ec399826f4c53871123caa9655540",
            "c9bed2fbc2a547d791e3933f026f7992",
            "b2536d90f3204dbdb9c23e91d61c62ed"
          ]
        },
        "id": "jp_o0OoAGdlu",
        "outputId": "4fc0a2dd-a5af-4bea-95d9-795444a75cfa"
      },
      "source": [
        "def plotTriWav(n):\r\n",
        "  plt.figure(figsize=(10, 5))\r\n",
        "  plt.plot(x_tw, np.sin(x_tw), label=\"Sine\", color=\"darkorange\", alpha=1, linewidth=1)\r\n",
        "  # plt.plot(x_tw, triangle_wave(x_tw, 200), label='Limit', color='coral', alpha=1, linewidth=1)\r\n",
        "  plt.plot(x_tw, triangle_wave(x_tw, n), label=\"Triangle Wave\", color=\"royalblue\", linewidth=3)\r\n",
        "  plt.grid('True')\r\n",
        "  plt.legend()\r\n",
        "  plt.ylim(-2, 2)\r\n",
        "  plt.xlabel('x')\r\n",
        "  plt.ylabel('y')\r\n",
        "  plt.title('Sine Wave and Triangle Wave')\r\n",
        "interact(plotTriWav, n=wdg.IntSlider(min=1, max=30, step=1, value=2))"
      ],
      "execution_count": 3,
      "outputs": [
        {
          "output_type": "display_data",
          "data": {
            "application/vnd.jupyter.widget-view+json": {
              "model_id": "57a95993a8164ac8aebd5d41a4da130d",
              "version_minor": 0,
              "version_major": 2
            },
            "text/plain": [
              "interactive(children=(IntSlider(value=2, description='n', max=30, min=1), Output()), _dom_classes=('widget-int…"
            ]
          },
          "metadata": {
            "tags": []
          }
        },
        {
          "output_type": "execute_result",
          "data": {
            "text/plain": [
              "<function __main__.plotTriWav>"
            ]
          },
          "metadata": {
            "tags": []
          },
          "execution_count": 3
        }
      ]
    },
    {
      "cell_type": "markdown",
      "metadata": {
        "id": "RgsG6k67hfDQ"
      },
      "source": [
        "As you can see, if $n$ equals 1 the Triangle Wave is identical to the Sine Wave but the more you increase the Value of $n$, the more it approximates the Shape of the Triangle Wave .\r\n",
        "\r\n"
      ]
    },
    {
      "cell_type": "markdown",
      "metadata": {
        "id": "U5OuTvqmJEaN"
      },
      "source": [
        "Now let's do the same for the Sawtooth Function. Again we need to define it as an infinite Fourier Series.\r\n",
        "\r\n",
        "$ SawtoothFunction(x) = \\frac{2}{\\pi} \\sum \\limits_{n=1}^{\\infty} (-1)^{n+1} \\cdot \\frac{\\sin(n x)}{n} $\r\n",
        "\r\n",
        "And we define a Function $x$ and $n$ for the $n$th Partial Sum."
      ]
    },
    {
      "cell_type": "code",
      "metadata": {
        "id": "h9V9g5lWJFY_"
      },
      "source": [
        "x_st = np.arange(-5, 5, 0.001)\r\n",
        "\r\n",
        "def sawtooth_wave(x, n):\r\n",
        "  st_approx = 0\r\n",
        "  for i in range (1, n+1):\r\n",
        "    coeff = 2/(np.pi*i)\r\n",
        "    sign = (-1)**(i+1)\r\n",
        "    fct = np.sin(i*x)\r\n",
        "\r\n",
        "    st_approx += (sign)*coeff*fct\r\n",
        "\r\n",
        "  return st_approx"
      ],
      "execution_count": 25,
      "outputs": []
    },
    {
      "cell_type": "markdown",
      "metadata": {
        "id": "DFLMFyoaKAAp"
      },
      "source": [
        "So that we can plot the Sawtooth Wave."
      ]
    },
    {
      "cell_type": "code",
      "metadata": {
        "colab": {
          "base_uri": "https://localhost:8080/",
          "height": 399,
          "referenced_widgets": [
            "180da1c564474739940656439d0af7bb",
            "21ede7f17188436fa947161e6caa9a36",
            "97c949648ec7400a9777d07c9ce0ea0e",
            "f7a855c181f24b7cb5467ded62009267",
            "e4ec87d4e6c6461daf14bf2ac0c068d8",
            "a2d445e85a1c40c1ae8b198c37eafd5a",
            "0b58b586a2194025bb489cc2f25b1fe4"
          ]
        },
        "id": "m6dwvOVlKE_A",
        "outputId": "44978e03-0562-4677-e662-5e56a88afce6"
      },
      "source": [
        "def plotSawtoothWav(n):\r\n",
        "  plt.figure(figsize=(10, 5))\r\n",
        "  plt.plot(x_st, np.sin(x_st), label=\"Sine\", color=\"darkorange\")\r\n",
        "  plt.plot(x_st, sawtooth_wave(x_st, n), label=\"Sawtooth Wave\", color=\"royalblue\")\r\n",
        "  plt.grid('True')\r\n",
        "  plt.legend()\r\n",
        "  plt.xlim(-5, 5)\r\n",
        "  plt.ylim(-3, 3)\r\n",
        "  plt.xlabel('x')\r\n",
        "  plt.ylabel('y')\r\n",
        "  plt.title('Sine Wave and Sawtooth Wave')\r\n",
        "interact(plotSawtoothWav, n=wdg.IntSlider(min=1, max=200, step=1, value=2))"
      ],
      "execution_count": 26,
      "outputs": [
        {
          "output_type": "display_data",
          "data": {
            "application/vnd.jupyter.widget-view+json": {
              "model_id": "180da1c564474739940656439d0af7bb",
              "version_minor": 0,
              "version_major": 2
            },
            "text/plain": [
              "interactive(children=(IntSlider(value=2, description='n', max=200, min=1), Output()), _dom_classes=('widget-in…"
            ]
          },
          "metadata": {
            "tags": []
          }
        },
        {
          "output_type": "execute_result",
          "data": {
            "text/plain": [
              "<function __main__.plotSawtoothWav>"
            ]
          },
          "metadata": {
            "tags": []
          },
          "execution_count": 26
        }
      ]
    },
    {
      "cell_type": "code",
      "metadata": {
        "id": "7chRlCJsLC5R"
      },
      "source": [
        "x_sw = np.arange(-5, 5, 0.001)\r\n",
        "\r\n",
        "def square_wave(x, n, l):\r\n",
        "  sw_approx = 0\r\n",
        "  for i in range(1, n+1):\r\n",
        "    coeff = 1/(2*i-1)\r\n",
        "    fct = np.sin((2*i-1)*np.pi*x/l)\r\n",
        "    \r\n",
        "    sw_approx += coeff*fct\r\n",
        "\r\n",
        "  return (4*sw_approx/np.pi)"
      ],
      "execution_count": 6,
      "outputs": []
    },
    {
      "cell_type": "markdown",
      "metadata": {
        "id": "c3YlLQ_SbHLZ"
      },
      "source": [
        "Let's look at a third Example, the Square Wave.\r\n",
        "\r\n",
        "$ SquareWave(x) \\,\\, = \\,\\, \\frac{4}{\\pi} \\sum \\limits_{n=1}^{\\infty} \\frac{1}{2n-1} \\cdot \\sin((2n-1) \\pi x) \\,\\, = \\,\\, \\frac{4}{\\pi} \\cdot (\\sin(\\pi x) + \\frac{1}{3} \\sin(3 \\pi x) + \\frac{1}{5} \\sin(5 \\pi x) + \\dots) $\r\n",
        "\r\n",
        "The Plot looks like this.\r\n",
        "(Click and hold the slider and press left or right arrow to change the value on step at a time)"
      ]
    },
    {
      "cell_type": "code",
      "metadata": {
        "colab": {
          "base_uri": "https://localhost:8080/",
          "height": 431,
          "referenced_widgets": [
            "be57ee8be04d48538d91dbf60fc84d67",
            "e74ea062f2314f3aa4b3bbb4666196e4",
            "2f5057cd54904557af80c1233248cf3c",
            "bafb97ca06b7440d9b4e95fdf485f2f3",
            "66218d8b80f048ad82dab091dfdbe9f7",
            "e4032019d098460685ee9106f13f7223",
            "e693d45afe754eeb8d84605e8f7c5bd1",
            "faab84054c8d44c3b8b9958549c0b4ef",
            "bf16e182286c4e4abd649143142c8cf8",
            "0357b45ba0ab49c5a12e6630fd83584c"
          ]
        },
        "id": "iP1rJGvJL8uD",
        "outputId": "ee07a9f8-06eb-4da9-f0eb-beb8ffbaa083"
      },
      "source": [
        "def plotSqrWav(n, l):\r\n",
        "  plt.figure(figsize=(10, 5))\r\n",
        "  plt.plot(x_sw, 4*np.sin(np.pi*x_sw/l)/np.pi, label=\"Sine\", color=\"darkorange\", linewidth=1, alpha=1)\r\n",
        "  # plt.plot(x_sw, square_wave(x_sw, 1000), label='Limit', color='coral', linewidth=1, alpha=1)\r\n",
        "  plt.plot(x_sw, square_wave(x_sw, n, l), label=\"Square Wave\", color=\"royalblue\", linewidth=3)\r\n",
        "  plt.grid('True')\r\n",
        "  plt.legend()\r\n",
        "  plt.xlim(-5, 5)\r\n",
        "  plt.ylim(-3, 3)\r\n",
        "  plt.xlabel('x')\r\n",
        "  plt.ylabel('y')\r\n",
        "  plt.title('Sine Wave and Square Wave')\r\n",
        "interact(plotSqrWav, n=wdg.IntSlider(min=1, max=1000, step=1, value=2), l=wdg.FloatSlider(min=0.2, max=7, value=1))"
      ],
      "execution_count": 7,
      "outputs": [
        {
          "output_type": "display_data",
          "data": {
            "application/vnd.jupyter.widget-view+json": {
              "model_id": "be57ee8be04d48538d91dbf60fc84d67",
              "version_minor": 0,
              "version_major": 2
            },
            "text/plain": [
              "interactive(children=(IntSlider(value=2, description='n', max=1000, min=1), FloatSlider(value=1.0, description…"
            ]
          },
          "metadata": {
            "tags": []
          }
        },
        {
          "output_type": "execute_result",
          "data": {
            "text/plain": [
              "<function __main__.plotSqrWav>"
            ]
          },
          "metadata": {
            "tags": []
          },
          "execution_count": 7
        }
      ]
    },
    {
      "cell_type": "markdown",
      "metadata": {
        "id": "Yc52gvuYi_em"
      },
      "source": [
        "At this point it's only natural to wonder how to calculate the Fourier Series for an abitrary Curve.\r\n",
        "In 1807 J.J.Fourier published his *Treatise on the propagation of heat in solid bodies* which contained the Fourier Series as a Means to solve the Heat Equation.\r\n",
        "Fourier discovered that any Curve could be expressed as a Linear Combination of Sinusoids (transformed Sine Waves).\r\n",
        "That's exactly what we witnessed in these three Examples.\r\n",
        "\r\n",
        "Consider a real-valued Function $s(x)$ over a real Interval $I = [s,t]$.\r\n",
        "If $s$ is $I$-periodic, we can find a Fourier Series that converges to $s$ on it's entire Domain by choosing $I$ so that it covers one Period.\r\n",
        "Else we can at least achieve Convergence on $I$.\r\n",
        "In either case $ s(x) \\,\\, = \\,\\, a_0 + \\sum \\limits_{n=1}^{\\infty} a_n \\cos(\\frac{n \\pi x}{l}) + b_n \\sin(\\frac{n \\pi x}{l}) $ where $l = t - s$ the length of $I$.\r\n",
        "Furthermore we can calculate the Coeffincients $a_0, a_n$ and $b_n$.\r\n",
        "\r\n",
        "$ a_0 = \\frac{1}{2l} \\int \\limits_{-l}^{l}  s(x) \\mathrm{d}x$\r\n",
        "\r\n",
        "$ a_n = \\frac{1}{l} \\int \\limits_{-l}^{l} s(x) \\cos(\\frac{n \\pi x}{l}) $\r\n",
        "\r\n",
        "$ b_n = \\frac{1}{l} \\int \\limits_{-l}^{l} s(x) \\sin(\\frac{n \\pi x}{l}) $\r\n",
        "\r\n"
      ]
    }
  ]
}